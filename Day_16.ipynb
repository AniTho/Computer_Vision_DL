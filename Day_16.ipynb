{
 "cells": [
  {
   "attachments": {},
   "cell_type": "markdown",
   "metadata": {},
   "source": [
    "__SOURCE:__ https://gist.github.com/mkocabas/a6177fc00315403d31572e17700d7fd9"
   ]
  },
  {
   "cell_type": "code",
   "execution_count": null,
   "metadata": {},
   "outputs": [],
   "source": [
    "%cd data/coco\n",
    "!mkdir images\n",
    "%cd images\n",
    "\n",
    "!wget -c http://images.cocodataset.org/zips/train2017.zip\n",
    "!wget -c http://images.cocodataset.org/zips/val2017.zip\n",
    "!wget -c http://images.cocodataset.org/zips/test2017.zip\n",
    "!wget -c http://images.cocodataset.org/zips/unlabeled2017.zip\n",
    "\n",
    "!unzip train2017.zip\n",
    "!unzip val2017.zip\n",
    "!unzip test2017.zip\n",
    "!unzip unlabeled2017.zip\n",
    "\n",
    "!rm train2017.zip\n",
    "!rm val2017.zip\n",
    "!rm test2017.zip\n",
    "!rm unlabeled2017.zip \n",
    "\n",
    "%cd ../\n",
    "!wget -c http://images.cocodataset.org/annotations/annotations_trainval2017.zip\n",
    "!wget -c http://images.cocodataset.org/annotations/stuff_annotations_trainval2017.zip\n",
    "!wget -c http://images.cocodataset.org/annotations/image_info_test2017.zip\n",
    "!wget -c http://images.cocodataset.org/annotations/image_info_unlabeled2017.zip\n",
    "\n",
    "!unzip annotations_trainval2017.zip\n",
    "!unzip stuff_annotations_trainval2017.zip\n",
    "!unzip image_info_test2017.zip\n",
    "!unzip image_info_unlabeled2017.zip\n",
    "\n",
    "!rm annotations_trainval2017.zip\n",
    "!rm stuff_annotations_trainval2017.zip\n",
    "!rm image_info_test2017.zip\n",
    "!rm image_info_unlabeled2017.zip"
   ]
  },
  {
   "cell_type": "code",
   "execution_count": null,
   "metadata": {},
   "outputs": [],
   "source": []
  }
 ],
 "metadata": {
  "kernelspec": {
   "display_name": "deep_learning",
   "language": "python",
   "name": "python3"
  },
  "language_info": {
   "codemirror_mode": {
    "name": "ipython",
    "version": 3
   },
   "file_extension": ".py",
   "mimetype": "text/x-python",
   "name": "python",
   "nbconvert_exporter": "python",
   "pygments_lexer": "ipython3",
   "version": "3.9.15"
  },
  "orig_nbformat": 4,
  "vscode": {
   "interpreter": {
    "hash": "986cada52ec410ee4ae5eaa595acb8590a81cbde4e49feb27784b90c9d35901c"
   }
  }
 },
 "nbformat": 4,
 "nbformat_minor": 2
}
